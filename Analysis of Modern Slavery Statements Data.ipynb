{
 "cells": [
  {
   "cell_type": "code",
   "execution_count": 1,
   "metadata": {},
   "outputs": [],
   "source": [
    "import pandas as pd\n",
    "import numpy as np\n",
    "import re\n",
    "import gensim\n",
    "from gensim.parsing.preprocessing import remove_stopwords, STOPWORDS\n",
    "import spacy\n",
    "from spacy.lang.en import English\n",
    "from sklearn.feature_extraction.text import TfidfVectorizer\n",
    "from sklearn.manifold import TSNE\n",
    "from sklearn.metrics.pairwise import cosine_similarity\n",
    "import matplotlib.pyplot as plt"
   ]
  },
  {
   "cell_type": "code",
   "execution_count": 2,
   "metadata": {},
   "outputs": [],
   "source": [
    "#Load the dataset\n",
    "df = pd.read_csv(\"data/modern_slavery_dataset.csv\")"
   ]
  },
  {
   "cell_type": "code",
   "execution_count": 3,
   "metadata": {},
   "outputs": [],
   "source": [
    "#Load the 50d Glove embeddings - need to unzip the zip file in this directory before running this command\n",
    "embeddings_dict = {}\n",
    "with open(\"glove.6B.50d.txt\", 'r') as f:\n",
    "    for line in f:\n",
    "        values = line.split()\n",
    "        word = values[0]\n",
    "        vector = np.asarray(values[1:], \"float32\")\n",
    "        embeddings_dict[word] = vector"
   ]
  },
  {
   "cell_type": "markdown",
   "metadata": {},
   "source": [
    "# Data Exploration #\n",
    "First, I'm going to start by doing some data exploration on the UK dataset. The UK Modern Slavery Act has some guidelines for the statements companies release (as detailed here: https://www.lw.com/thoughtLeadership/lw-uk-modern-slavery-act). As a result, I'm going to split the text by each component of the slavery statement guideline, which should enable some more analysis."
   ]
  },
  {
   "cell_type": "code",
   "execution_count": 4,
   "metadata": {},
   "outputs": [],
   "source": [
    "#Filter for the UK\n",
    "uk = df[df[\"UK Modern Slavery Act\"] == True]\n",
    "#Remove the entries with no text\n",
    "uk = uk[~uk[\"Text\"].isna()]"
   ]
  },
  {
   "cell_type": "code",
   "execution_count": 5,
   "metadata": {},
   "outputs": [
    {
     "name": "stderr",
     "output_type": "stream",
     "text": [
      "I0103 01:22:25.493542 140116206262080 file_utils.py:41] PyTorch version 1.7.0 available.\n"
     ]
    }
   ],
   "source": [
    "nlp = spacy.load('en_vectors_web_lg')"
   ]
  },
  {
   "cell_type": "markdown",
   "metadata": {},
   "source": [
    "I want to extract each major section (policies, supply chain, training, and due diligence) covered under the UK Modern Slavery Act. The ideal way to do this is probably to use a sentence extraction model (like the one provided here: https://github.com/brmson/Sentence-selection) to select the sentences most likely to answer questions like \"Is due diligence performed?\" However, for now, I'll use regex to identify headers within the slavery statements and determine which of the 4 sections that header is most similar to. "
   ]
  },
  {
   "cell_type": "code",
   "execution_count": 8,
   "metadata": {},
   "outputs": [],
   "source": [
    "#These are the sections that seem to appear the most commonly in these documents\n",
    "section_vectors = {\"policies\": nlp(\"policies slavery\"), \"supply chain\": nlp(\"supply chain structure\"), \"training\": nlp(\"training\"), \"due diligence\": nlp(\"due diligence effectiveness\")}\n",
    "\n",
    "def split_into_sections(text):\n",
    "    #Remove stopwords so that every word in a header hopefully starts with a capital letter\n",
    "    text = \" \".join([word for word in text.split(\" \") if word.lower() not in nlp.Defaults.stop_words]) #Remove stopwords\n",
    "    #Regex to split the text by header\n",
    "    sections = re.split(r\"(?:\\n|\\x0c)((?:[\\d]+[\\.]? +){0,1}(?:(?:[A-Z]['\\w]+)(?: [\\w&,]+){0,6})|[A-Z]{2,}(?: [A-Z]+){0,6})\\n\", text)\n",
    "    index = 0\n",
    "    #A dictionary that contains the text for each section from the statement\n",
    "    labeled_sections = dict((section, \"\") for section in section_vectors) \n",
    "    while index < len(sections) - 1:\n",
    "        #I assume that headers are generally shorter than 7 words - if it's longer than this, it's mistakenly identified as a header\n",
    "        if sections[index] != \"\" and len(sections[index].split()) < 7:\n",
    "            max_sim = 0\n",
    "            section_sim = \"\"\n",
    "            #For each header, looks at the section that the header is closest to\n",
    "            for vec in section_vectors:\n",
    "                sim = section_vectors[vec].similarity(nlp(sections[index]))\n",
    "                if sim > max_sim:\n",
    "                    max_sim = sim\n",
    "                    section_sim = vec\n",
    "            #Uses threshold for similarity that I found generally works well in practice\n",
    "            #The second clause in the if statmenet ensures that the header is followed by a block of text and not another header (like in a table of contents)\n",
    "            if max_sim > .5 and len(sections[index+1]) > 50:\n",
    "                labeled_sections[section_sim] = labeled_sections[section_sim] + sections[index+1]\n",
    "                index += 1\n",
    "        index += 1\n",
    "    return np.array([labeled_sections['due diligence'], labeled_sections['policies'], labeled_sections['supply chain'], labeled_sections['training']])\n"
   ]
  },
  {
   "cell_type": "code",
   "execution_count": 9,
   "metadata": {},
   "outputs": [
    {
     "name": "stderr",
     "output_type": "stream",
     "text": [
      "/usr/lib/python3/dist-packages/ipykernel_launcher.py:18: UserWarning: [W008] Evaluating Doc.similarity based on empty vectors.\n"
     ]
    }
   ],
   "source": [
    "uk[\"Due Diligence\"], uk[\"Policies\"], uk[\"Supply Chain\"], uk[\"Training\"] = np.split(np.array(uk[\"Text\"].apply(split_into_sections).tolist()), 4, axis=1)"
   ]
  },
  {
   "cell_type": "markdown",
   "metadata": {},
   "source": [
    "As I thought, there is a sizable difference in the length of the text for the statements whose policies were able to be identified through Regex and statements whose policies weren't able to be."
   ]
  },
  {
   "cell_type": "code",
   "execution_count": 10,
   "metadata": {},
   "outputs": [
    {
     "data": {
      "text/plain": [
       "(6002.0, 3681.0)"
      ]
     },
     "execution_count": 10,
     "metadata": {},
     "output_type": "execute_result"
    }
   ],
   "source": [
    "uk[uk[\"Policies\"] != \"\"][\"Text\"].apply(len).median(), uk[uk[\"Policies\"] == \"\"][\"Text\"].apply(len).median()"
   ]
  },
  {
   "cell_type": "markdown",
   "metadata": {},
   "source": [
    "# Preprocessing \n",
    "Preprocessing was not done earlier because capitalization and newlines were essential to helping to split the document up by headers, but I'll preprocess here by removing numbers, newlines, and punctuation, and then lemmatizing after."
   ]
  },
  {
   "cell_type": "code",
   "execution_count": 11,
   "metadata": {},
   "outputs": [],
   "source": [
    "def preprocessing(string):\n",
    "    if not string:\n",
    "        return string\n",
    "    string = re.sub(r\"\\n\", \" \", string) #Remove newlines\n",
    "    string = re.sub(\"[0-9]\", \"\", string) #Remove numbers\n",
    "    spacy_str = nlp(string)\n",
    "    tokens = [token.lemma_.lower() for token in spacy_str if not token.is_punct and not token.like_num]\n",
    "    return tokens"
   ]
  },
  {
   "cell_type": "markdown",
   "metadata": {},
   "source": [
    "# Clustering Policies\n",
    "First, I want to see if there are any clusters that we can identify using T-SNE when visualizing the vectors of the policy section of the statements. Because T-SNE uses dimensionality reduction, to make the process quicker, I decided to use 50-dimensional Glove word embeddings instead of 100 or 300 dimension embeddings. "
   ]
  },
  {
   "cell_type": "code",
   "execution_count": 12,
   "metadata": {},
   "outputs": [],
   "source": [
    "uk[\"Policies Preprocessed\"] = uk[\"Policies\"].apply(preprocessing)"
   ]
  },
  {
   "cell_type": "markdown",
   "metadata": {},
   "source": [
    "Because I assume some words and phrases, like \"human trafficking\" and \"slavery\", will occur often across and within documents, I don't want them to have an outsize impact on the vector generated for the final paragraph. As a result, to generate the final vector for each policy section, I'll take the sum of each word vector multiplied by its TF-IDF score."
   ]
  },
  {
   "cell_type": "code",
   "execution_count": 13,
   "metadata": {},
   "outputs": [
    {
     "data": {
      "text/plain": [
       "<11223x6802 sparse matrix of type '<class 'numpy.float64'>'\n",
       "\twith 1170597 stored elements in Compressed Sparse Row format>"
      ]
     },
     "execution_count": 13,
     "metadata": {},
     "output_type": "execute_result"
    }
   ],
   "source": [
    "#calculate tfidf scores for the policies\n",
    "policies = uk[uk[\"Policies Preprocessed\"] != \"\"][\"Policies Preprocessed\"].values\n",
    "policies = [\" \".join(policy) for policy in policies]\n",
    "tfidf = TfidfVectorizer(min_df=5)\n",
    "tfidf.fit_transform(policies)"
   ]
  },
  {
   "cell_type": "code",
   "execution_count": 14,
   "metadata": {},
   "outputs": [],
   "source": [
    "def get_tfidf_vector(token):\n",
    "    #If the token is both in the tfidf vocab and has an embedding, multiply the embedding by the tfidf score\n",
    "    if token in tfidf.vocabulary_ and token in embeddings_dict:\n",
    "        return embeddings_dict[token]*tfidf.idf_[tfidf.vocabulary_[token]]\n",
    "    return np.zeros(50)\n",
    "    \n",
    "\n",
    "def get_final_vector(tokens):\n",
    "    vectors = np.array(list(map(get_tfidf_vector, tokens)))\n",
    "    #Adds up all the vectors in the text\n",
    "    return list(np.sum(vectors, axis=0))"
   ]
  },
  {
   "cell_type": "code",
   "execution_count": 15,
   "metadata": {},
   "outputs": [],
   "source": [
    "policy_vectors = uk[uk[\"Policies Preprocessed\"] != \"\"][\"Policies Preprocessed\"].apply(get_final_vector)"
   ]
  },
  {
   "cell_type": "code",
   "execution_count": 16,
   "metadata": {},
   "outputs": [],
   "source": [
    "labels = uk[uk[\"Policies Preprocessed\"] != \"\"][\"Company ID\"].values #Get company ID values\n",
    "policy_vectors = np.array(list(policy_vectors.values)) #Just helps to make 1d array into 2d array"
   ]
  },
  {
   "cell_type": "code",
   "execution_count": 17,
   "metadata": {},
   "outputs": [],
   "source": [
    "tsne_model = TSNE(perplexity=40, n_components=2, init='pca', n_iter=2500, random_state=23) \n",
    "new_values = tsne_model.fit_transform(policy_vectors) #Generates TSNE values"
   ]
  },
  {
   "cell_type": "code",
   "execution_count": 18,
   "metadata": {},
   "outputs": [],
   "source": [
    "x = []\n",
    "y = []\n",
    "\n",
    "#Samples 5000 indices because plotting all the points is too much\n",
    "indices = np.random.choice(len(labels), 5000, replace=False) \n",
    "sampled_values = new_values[indices]\n",
    "sampled_labels = labels[indices]\n",
    "\n",
    "for value in sampled_values:\n",
    "    x.append(value[0])\n",
    "    y.append(value[1])"
   ]
  },
  {
   "cell_type": "code",
   "execution_count": 19,
   "metadata": {},
   "outputs": [
    {
     "data": {
      "image/png": "[encoded data removed]",
      "text/plain": [
       "<Figure size 1152x1152 with 1 Axes>"
      ]
     },
     "metadata": {},
     "output_type": "display_data"
    }
   ],
   "source": [
    "plt.figure(figsize=(16, 16)) \n",
    "for i in range(len(x)):\n",
    "    plt.scatter(x[i],y[i])\n",
    "    #The line below annotates every point but this makes the plot far less legible\n",
    "    #plt.annotate(sampled_labels[i], xy=(x[i], y[i]), xytext=(5, 2), textcoords='offset points', ha='right', va='bottom')\n",
    "plt.show()"
   ]
  },
  {
   "cell_type": "markdown",
   "metadata": {},
   "source": [
    "Most of the points seem to be clustered near each other, which makes sense. Analyzing the outliers, however, does reveal some insights. I've identified some of the company ID's of the outliers. These outliers seem to either, talk about policies not directly relevant to human trafficking and slavery, possibly revealing documents included in the corpus that shouldn't be, or policies that go into far more detail than the average document does. For the latter option, analyzing these documents closely might reveal more effective ways to combat slavery than the average company's anti-slavery policy."
   ]
  },
  {
   "cell_type": "code",
   "execution_count": 20,
   "metadata": {},
   "outputs": [
    {
     "data": {
      "text/plain": [
       "'As global aluminium company mining interests, ensuring responsible conduct relation society large important Hydro\\'s activities. consider impact society, spanning construction divestment closure activity, exposure corruption human rights violations, operations, communities of, supply chain.\\nOur compliance shall ensure persons acting behalf Hydro comply applicable laws regulations requirements adopted Hydro. measures pursue ensure integrity responsible behavior include:\\n• Zero tolerance corruption private public sector\\n• Ongoing human rights diligence, including audits joint ventures suppliers\\n• Continuous stakeholder engagement linked existing operations new projects\\nHydro’s board-sanctioned Code Conduct creates foundation supports efforts right things act integrity global organization operate conduct business behalf Hydro. requires adherence laws regulations internal constituting documents global directives systematically implemented followed compliance system.\\nOur compliance based clear governance structure defining roles responsibilities regards compliance compliance-related activities undertaken company.\\nThe management compliance risks, including risks related corruption human rights violations, integrated business planning, enterprise risk management follow-up process, including relevant risk-mitigating actions key performance indicators. progress actions non-compliance matters addressed quarterly performance review meetings business\\n\\narea CEO, annual compliance report submitted Board Directors. head Group compliance reports Board Directors Board Audit Committee discretion. meets Board Directors periodically participates Board Audit Committee meetings.\\nThe Head internal audit reports company’s Board Directors Board Audit Committee. quarter informs board audit committee periodically Corporate Management Board matters reported AlertLine. Hydro’s internal audit resources Norway, Brazil North-America.\\nWe committed building culture trust employees comfortable ask questions, seek guidance, raise concerns, report suspected violations. Normally, concerns complaints raised employee’s superior. However, employee uncomfortable that, raise issue Human Resources, HSE, union/safety representative, Compliance, Legal Internal Audit. employee use Hydro\\'s whistle-blower channel, AlertLine, concerns reported anonymously. employees on-site contractors use AlertLine language times tollfree phone numbers, Hydro\\'s intranet dedicated address Internet. certain countries, e.g. Spain, legal restrictions reporting lines. 2019, 347 reports filed Hydro\\'s AlertLine compared 342 2018. cases investigated. total 20 persons dismissed result breaches Hydro policy 2019. number limited cases reported Hydro’s Internal Audit. includes persons related cases substantiated corruption.\\nGrievance, complaint, mechanisms important understand impact Hydro’s operations, impact rights individuals groups affected operations. Grievances kind, including social environmental issues, anonymously. situations identify adverse human rights impact, work mitigate, prevent, address remedy recommended Guiding Principles Business Human Rights. Channels submitting grievances vary depending local needs stakeholder groups. Brazil, channels, including phone number, email dedicated, specially trained field workers.\\nHydro tolerate retaliation speaks good faith ask question, raises concern, reports suspected violation participates internal company investigation.\\nWe committed respecting promoting human rights individuals potentially affected directly indirectly operations. employer, owner purchaser, important contribution respecting human rights secure decent working conditions organization, minority-owned companies suppliers.\\nHydro supports key frameworks define human rights principles committed follow these, including Guiding Principles Business Human Rights. Hydro’s human rights management based OECD Diligence Guidance Responsible Business Conduct.\\n\\nFinancial assets Financial assets represent contractual right Hydro receive cash financial asset future. Financial assets include financial derivatives commodity derivative contracts, receivables equity interests, financial instruments cash-flow hedges.\\nFinancial assets recognized accordance IFRS 9 Financial Instruments. initial recognition, financial asset classified measured amortized cost; fair value comprehensive income (FVOCI) fair value profit loss (FVTPL). Classification depends business model and, instruments, company’s choice. Financial assets derecognized rights receive cash asset expired Hydro transferred asset.\\nTrade receivables Trade receivables initially recognized transaction price, subsequently accounted amortized cost reviewed impairment ongoing basis. Individual accounts assessed impairment taking consideration indicators financial difficulty management assessment. Portfolios trade receivable expected losses insignificant reduced expected losses. Discounting generally material effect accounts receivable, however, special cases discounting applied. Hydro’s business model trade receivable hold receivables collect contractual cash flows. portfolios trade receivables, factoring applied.\\nDebt instruments Debt instruments trade receivables include bank deposits monetary instruments maturity months date purchase, investments debt securities, certain receivables. instruments measured amortized costs, exception instruments cash flows contractually fixed required measured FVTPL.\\nShort-term debt instruments included Short-term investments. Long-term debt instruments included noncurrent assets, exception loans associates joint ventures, included Investments accounted equity method.\\nEquity instruments Hydro’s portfolio trading securities measured FVTPL, included Short-term investments. equity investments consolidated accounted equity method classified FVTPL FVOCI individual investment basis. Hydro classifies investments entities strategic operational purpose, getting access raw materials ways cooperating entities, primarily FVOCI, Hydro considers classification relevant. dividend received investment recognized Finance income. disposal investments, gain loss recognized income statement, however, related accumulated value change reclassified components equity Retained earnings.\\nFinancial liabilities Financial liabilities represent contractual obligation Hydro deliver cash future, classified shortor long-term. Financial liabilities include financial derivatives, commodity derivative contracts financial liabilities financial instruments cash-flow hedges. Financial liabilities, exception derivatives, initially recognized fair value, including transaction costs directly attributable transaction, subsequently measured amortized cost. Financial liabilities derecognized obligation discharged payment Hydro legally released primary responsibility liability.\\n\\n\\nMeet improvement target Hydro\\'s reputation Pará (measured external stakeholder surveys)\\nHydro\\'s country country report developed comply legal requirements stated Norwegian Accounting Act §3-3d Norwegian Security Trading Act §5-5a, valid 2014, updated 2017, replaces reporting payments host governments according Extractive Industries Transparency Initiative (EITI). reporting includes, goes beyond, EITI requirements. According Norwegian Accounting Act, country-bycountry reporting project level, payments reported public authority. Following thorough evaluation, defined \"project\" legal entity report, \"public authority\" levels federal; state(s); municipality(-ies).\\nThe reporting requirement applies Hydro Norwegian listed company exploration extractive activities. Currently, includes Hydro\\'s consolidated operations Brazil, exploration extractive activities Paragominas, state Pará. voluntary basis, line EITI reporting 2005, include alumina refinery Alunorte. Alumina refined bauxite commercial product Hydro\\'s Bauxite & Alumina business area.\\nHydro’s primary aluminium production facility Albras closely linked extraction raw materials Pará. order better illustrate tax contribution Hydro’s aluminium value chain Pará, Albras included voluntary basis country-by-country report. addition, Hydro voluntarily report indirect tax contributions covered requirements country country report.\\nTo comply Norwegian country-by-country regulation, Hydro required report certain information corporate level related legal entities, registered, number employees, paid legal entities Hydro jurisdiction. 2017, required short description legal entity\\'s activities, revenue, income tax, tax accrued paid reporting year, accumulated earnings.\\nThe Country-by-country report approved board directors included responsibility statement.\\n\\n\\x0c126\\n\\nFinancial Statements Board Directors’ report 2019\\n\\nAppendices Board Directors’ report\\nThe Brazilian tax complex volatile. addition direct taxes reported income, profit production, Brazil indirect taxes levied federal state levels, taxes levied municipal level.\\nFor Hydro, relevant indirect tax mechanisms covered country-by-country requirements, i.e ICMS PIS/COFINS.\\nICMS Brazilian state tax sale goods, freight certain services, similar VAT. ICMS intended noncumulative tax, means sales generating ICMS debits seller, purchases generating ICMS credits buyer. However, export transactions exempt ICMS generating ICMS debits, exporters accumulate ICMS credits offset taxes. ICMS indirect tax, amounts reported expenses Hydro’s financial statements income tax.\\nIn state Pará, Hydro subject tax regime aims preventing accumulation ICMS recognized credits, reduces net payable ICMS. operations, generate ICMS tax revenue Pará purchasing diesel fuel oil, Albras acquires electricity, sales products customers located outside state.\\nThe ICMS regime Hydro subject requires Hydro comply certain conditions related vertical integration aluminium production Pará. requires Hydro contribute development region enable sustainable growth Pará.\\nThe ICMS deferral subject approval Brazil’s National Council Finance Policy (CONFAZ). 2018, Public Auditing Prosecutors State Pará (MP-C/PA) initiated general process State Accounting Court better understand approvals, compliance transparency tax incentives established State Pará.\\nPIS COFINS social contribution taxes charged gross income, cases rate 9.25 percent. Hydro’s group companies Brazil charged non-cumulative resembles VAT. Similar ICMS, export transactions subject tax. result, Brazilian exporters, like Alunorte Albras, accumulate credits reimbursed offset debts federal taxes.\\nIn addition indirect taxes described above, Brazilian municipalities levy property tax. property tax, IPTU, tax levied ownership possession urban land property located urban area municipality. IPTU yearly based value property, according rates conditions foreseen municipality\\'s legislation.\\nThe table includes Hydro entities involved extractive activities Hydro entities state Pará.\\n\\n\\x0c128\\n\\nFinancial Statements Board Directors’ report 2019\\n\\nAppendices Board Directors’ report\\n\\nof Trade, Industry Fisheries, owns 34.3 percent Hydro shares (as 31.12.2019) virtue Active Ownership Report (Report Storting no. 8 (20192020)) expressed long-term ownership perspective company purpose retaining head office research activities Norway.\\n\\nThis chapter provides detailed overview Hydro follows Norwegian Code Practice Corporate Governance 2018. Information Hydro provide accordance Norwegian Accounting Act, section 3.3b, included. overview seen context general corporate governance report provided Hydro\\'s annual report 2019.\\nHydro follows Norwegian Code Practice Corporate Governance 2018.\\ntransparency statement\\nHydro\\'s Modern slavery transparency statement developed comply legal requirements stated UK Modern Slavery Act 2015, valid Hydro 2016, Australia Modern Slavery 2018, valid Hydro 2020. reporting requirements apply Hydro supplier goods total turnover £36 million UK AUD 100 million Australia. statement valid Norsk Hydro ASA consolidated subsidiaries. include, limited to, fullyowned production units Hydro Aluminium Deeside Ltd, Hydro Building Systems UK Ltd., Hydro Components UK Hydro Extrusion UK UK fully-owned holding company Hydro Aluminium Australia Pty Limited Australia. owner Hydro’s 12.4 percent shares joint venture Tomago Aluminium Smelter Tomago Aluminium Smelter management company Tomago Aluminium Company Pty.\\nThe Modern slavery transparency statement prepared based information collected consolidated entities Hydro. addition, above-mentioned legal entities consulted statement itself.\\nEntities fully owned by, controlled Hydro, different policies. believe relevant policies aligned ones Hydro.\\n\\nThe UK Australia Modern Slavery transparency statement approved board directors parent company Norsk Hydro ASA. statement included board’s responsibility statement included Financial Statements Board Directors’ Report 2019.As global aluminium company mining interests, ensuring responsible conduct important Hydro\\'s value chain. consider impact society, spanning construction divestment, exposure corruption human rights violations, operations supply chain.\\nOur compliance shall ensure persons acting behalf Hydro comply applicable laws regulations requirements adopted Hydro.\\nWe committed respecting supporting human rights individuals potentially affected directly indirectly operations, including freedom modern slavery. employer, owner purchaser, important contribution respecting human rights secure decent working conditions organization, minorityowned companies suppliers.\\n\\nWe support principles underlying Universal Declaration Human Rights, Global Compact ILO\\'s core conventions. human rights policy based Guiding Principles Business Human Rights, report adherence GRI index. member International Council Mining Metals (ICMM) committed following principles position statements. use GRI Standards voluntary reporting sustainable development. Hydro’s human rights management based OECD Diligence Guidance Responsible Business Conduct\\nHydro’s Human Rights Policy developed 2013 multi-stakeholder process. policy updated 2016 outlines company’s commitment respecting promoting human rights. commitment integrated key procedures, including supply chain management, new projects portfolio management risk management. policy approved Corporate Management Board governed EVP Corporate Development.\\n\\n'"
      ]
     },
     "execution_count": 20,
     "metadata": {},
     "output_type": "execute_result"
    }
   ],
   "source": [
    "#For example, the policies of this company seem to talk extensively about managing its environmental impacts, but\n",
    "#very little, if at all, about slavery and human trafficking. This would seem to indicate that this document is included\n",
    "#probably by mistake.\n",
    "uk[uk[\"Company ID\"] == 25410][\"Policies\"].values[0]"
   ]
  },
  {
   "cell_type": "code",
   "execution_count": 21,
   "metadata": {},
   "outputs": [
    {
     "data": {
      "text/plain": [
       "'Patagonia prohibits forced labor human trafficking forms supply chain. evaluate potential new factory partners, place purchase orders forced labor. forced labor existing partners’ factories, factory subject escalation policy, including remediation plan demonstrate commitment eradicating practice issue. cases, factory Patagonia’s supply chain, incidences conditions contributing slavery human trafficking grounds end business relations eliminated.\\nWe fully support efforts growing number anti-slavery activist groups, nongovernmental organizations (NGO’s), state federal government shed light human trafficking, slavery, child labor supply chain. hopeful\\n3|Page\\n\\n\\x0cthat human rights concerns continue receive attention analysis public private spheres.\\nWe welcome feedback disclosure statement. email social_responsibility@patagonia.com.\\nB. DISCLOSURE PATAGONIA PURSUANT CALIFORNIA TRANSPARENCY SUPPLY CHAINS ACT UK MODERN SLAVERY ACT\\nFocusing topic areas covered California Transparency Act, statement discloses monitor supply chain child labor forms forced labor, including slavery human trafficking. statement serves fulfill disclosure requirements UK Modern Slavery Act.\\n1. Verification Requirement: “[D]isclose extent, any, [the company]…[e]ngages verification product supply chains evaluate address risks human trafficking slavery. disclosure shall specify verification conducted party.”\\na. Verification Protocols\\nPatagonia committed fair labor practices supply chain. founding fully accredited member Fair Labor Association (FLA). purpose multistakeholder organization improve working conditions factories worldwide. NGO’s code conduct, Patagonia adopted supplemented additional standards, requires suppliers prohibit forms forced labor, human trafficking, child labor supply chain. Additionally, Code detailed benchmark standards align code element.\\nWe written policies procedures outlining identify, evaluate, address remediate human trafficking child labor. accredited member FLA, policies procedures comply FLA’s Principles Fair Labor Responsible Sourcing.\\nTo maximize coverage supply chain ensure checks-and-balances, engage third-party monitors employ team full-time Field Managers based Asia audit factories human trafficking slavery. skilled experienced monitors identify abuses multi-pronged approach, including interviews workers management, observational tours factory, documentation review geographic industry risk assessments. audit tool protocol includes robust section child labor migrant workers specific questions look indications human trafficking. addition, FLA randomly audits sampling garment factories supply chain year posts results public viewing website.\\nTo ensure supply chain complies policies procedures, new factories undergo four-fold prescreening audit process. process includes screening social environmental responsibility, sourcing quality teams. social environmental responsibility team equal voting power the\\n4|Page\\n\\n\\x0cother departments final selection new factories. measure ensures contract factories substandard human rights environmental practices begin with.\\nFor current factories, audit cutting, sewing finishing factories, subcontractors, compliance Code Conduct detailed benchmark document. includes compliance policies forced child labor. practice social responsibility program mid1990s. late 2011, traced materials supply chain currently monitor key mills collectively close 80% annual cost. require immediate remediation noncompliance Code Conduct, including slave labor, human trafficking child labor. additional factory social environmental responsibility information Corporate Responsibility Footprint Chronicles® site.\\nb. Frequency\\nPatagonia tracks records direct suppliers material manufacturers ongoing basis. New existing suppliers submit mapping documents supply chain required Patagonia abreast changes. Patagonia uses information identify sites monitored duration relationship supplier.\\nAll new factories undergo pre-sourcing audit factory able satisfactorily meet standards orders placed. supplier monitoring cycle programs tailored supplier’s performance level. includes audits, trainings, capacity building consultations, types engagements help supplier identify root causes achieve compliance. Depending factory’s needs performance, events occur monthly annually, auditing events, include evaluation forced labor human trafficking.\\nPatagonia headquarters formally audited FLA staff years compliance FLA’s 10 Principles Fair Labor Responsible Sourcing. addition, required complete extensive annual self-assessment maintain accreditation formal audits. Lastly, B-Corporation, required submit self-assessment years, allow onsite audits BLab certifier, publish annual B-Corp report includes efforts social environmental responsibility.\\nc. Labor Brokers\\nThe use labor brokers hire migrant workers increases risk human trafficking forced labor. recognition this, taken concrete steps improve identification presence labor brokers supply chain social audit tool protocol. social audit tool includes section devoted uncovering understanding labor broker participation worker management interview protocol covers questions recruitment process reveal labor broker involved fees paid labor broker(s) sending receiving country contribute human trafficking situation.\\n5|Page\\n\\n\\x0cIf factory high risk human trafficking initial audits, follow-up in-depth migrant worker audit. developed migrant worker audit late-2014 discovered Taiwan mills hiring migrant workers labor brokers. focused audit looks migrant worker life cycle recruitment process worker left home country working conditions employed repatriation policy contract expires. audit evaluates destination labor broker required present audit.\\n2. Supplier Audits Requirement: “[D]isclose extent, any, [the company]… [c]onducts audits suppliers evaluate supplier compliance company standards trafficking slavery supply chains. disclosure shall specify verification independent, unannounced audit.”\\na. Audit Methodology\\nOur social audit program consistently monitors finished goods factories subcontractors (Tier 1), and, key material trim suppliers (Tier 2, account close 80% total material cost). factories mills undergo social audit and, red flags human trafficking found, suppliers undergo in-depth, specific migrant worker audit. factories mills subject annual auditing frequently labor environmental issues found. Key “sophisticated suppliers” (ones demonstrated advanced CSR management systems remain compliance) audited frequently independent party audit reports collected annually reduce audit fatigue. sophisticated suppliers instead offered free trainings engagements helps factory elevate CSR program.\\nThrough Migrant Worker Employment Standards, established clear specific standards Tier 1 Tier 2 monitored suppliers prevent occurrence forced labor child labor. standards relate ethical recruitment, labor broker diligence, human resource policies, record inspection tracking.\\nIn social audits, employ triangulation method detecting substantiating findings consists of:\\n1) Interviews management diverse set workers departments. interview migrant workers native language labor brokers destination country, applicable.\\n2) In-depth review documents signal forced labor debt bondage proof age, payroll, time records, production records, disciplinary notices, grievances, employment contracts, human resource policies personnel files.\\n3) Visual observations audit particularly factory tour health safety walkthrough.\\nPatagonia special section social responsibility audit tool helps identify indicators human trafficking. triangulation method above, internal party auditors assess section audit.\\n6|Page\\n\\n\\x0cBeyond auditing, Patagonia engages numerous activities factories ensure compliance forced child labor laws Code Conduct. activities include special trainings, continuous improvement programs, capacity building initiatives, like ILO Better Work program Fair Trade, collaboration efforts brands FLA.\\nb. Audit Statistics\\nPresourcing Patagonia conducts prescreening audits new finished goods factories fabric mills prior initiating purchase orders.\\nTier 1: Finished Goods scope Tier 1, finished goods, monitoring program includes 100% finished goods factories subcontractors producing Patagonia.\\nTier 2: Raw Materials scope Tier 2, raw materials, monitoring program includes suppliers close 80% total cost raw materials purchased Patagonia annually.\\nThe majority audits conducted appointment factory. use approach conveys desire build trust equal partnership. experience, unannounced audits yielded higher rates findings, encourages supplier non-transparency suspicion. identify problem factories, rely on: professional skills, extensive experience expertise field management staff; carefully selected party auditors; robustness audit methodology; factory pre-screening process. said, conduct unannounced inspections surveillance suppliers needed basis.\\nc. Auditor Information\\nPatagonia monitors suppliers combination internal auditors professional parties. employ full-time Field Managers dedicated monitoring supporting supply chain social environmental responsibility. team strategically based Asia reflect distribution supply chain. field staff receive ongoing refresher skills building training field evaluations. Social Responsibility staff headquarters trained auditors average 12 years industry experience.\\nTo help expand coverage create checks-and-balances, partner vetted pre-approved NGO’s monitoring firms conduct audits. Included FLA randomly selects audits sampling supply chain given year publishes results online. hire parties audit quarter finished goods factories half material suppliers.\\nIf human rights abuses detected, problems escalated internally four-fold process immediate action taken, including intervention by\\n7|Page\\n\\n\\x0cour business units. cases, conduct root cause analysis uncover underlying cause(s) violation determine best course action.\\n3) Certification Requirement: “[D]isclose extent, any, [the company]… [r]equires direct suppliers certify materials incorporated product comply laws slavery human trafficking country countries business.”\\na. Certification Requirements\\nAll direct suppliers required sign statement certifies materials incorporated products comply slavery human trafficking laws country countries business. introducing process material suppliers ensure receive information directly Patagonia. know education awareness best form prevention. end, send suppliers materials educate areas human trafficking found, inadvertently occur hiring process factory management uses labor broker party.\\nPatagonia shares following materials direct suppliers raw material suppliers: Patagonia Migrant Worker Standard; summary FLA SB 657; list activities Patagonia reduce risk human trafficking supply chain; Frequently Asked Questions sheet migrant worker issues; questionnaire identifies human trafficking risks hiring practices; list helpful websites issue. enhance efforts, include human trafficking awareness training onboard new suppliers annual Code Conduct training existing ones (an FLA requirement).\\nb. Accountability Efforts\\nAlong compliance statement, suppliers expected able demonstrate compliance well. Verification happens audits suppliers asked present evidence, including, limited to: age documents, payroll time records, production records, disciplinary notices, grievances, employment contracts, human resource policies, personnel files training records. Interviews conducted management workers substantiate documents reviewed.\\nIf migrant workers employed additional measures investigate situation. follow-up, supplier asked complete survey provide information labor brokers migrant workforce including composition, fees paid, conditions employment forth. survey reveals indicators human trafficking slavery, quickly arrange focused migrant worker audit. results audit supplier’s willingness continuous improvements analyzed presented 4-fold team discussion steps.\\n8|Page\\n\\n\\x0c4) Internal Accountability Requirement: “[D]isclose extent, any, [the company]… [m]aintains internal accountability standards procedures employees contractors failing meet company standards slavery trafficking.”\\na. Identification Policies\\nPatagonia headquarters formally audited FLA staff years FLA’s Principles Fair Labor Responsible Sourcing, annual selfassessment years. 2013, FLA reaccredited Social Environmental Responsibility program. submitted selfassessments supporting documents demonstrate ongoing compliance. anticipating reaccreditation audit 2017. Additionally, BCorporation, required submit self-assessment years, allow onsite audits B-Lab, certifier, publish annual B-Corp report includes efforts social environmental responsibility.\\nWe developed applied Migrant Worker Employment Standards supply chain. Taiwan identified pervasive migrant worker employment fabric mills, held seminar late 2014 suppliers announced Standards, provided education issues facing migrant workers showed identify prevent human trafficking.\\nPatagonia prohibits form forced labor, including slavery human trafficking. grave concern supply chain, factory subject factory disciplinary policy. Disciplinary actions include immediate remediation possible termination business. Aside serious, unremediated zero tolerance issues, Patagonia’s policy form long-term relationships work contracted factories, spirit continuous improvement.\\nb. Worker Protections\\nFactories producing goods Patagonia required post Patagonia Code Conduct separate grievance hotline poster conspicuous place visible workers. hotline resource provided Patagonia 3rd party able field calls worker’s language around-the-clock. Information gets collected disseminated Patagonia action.\\nIn addition, require suppliers create maintain internal grievance mechanism. developed clear standards, guidance document in-person training module support suppliers effort. evaluate strength grievance audits.\\n5) Training Requirement: “[D]isclose extent, any, [the company]… [p]rovides company employees management, direct responsibility supply chain management, training human trafficking slavery, particularly respect mitigating risks supply chains products.”\\n9|Page\\n\\n\\x0ca. Training Methodology\\nInternal Training Trainings Patagonia’s social environmental responsibility efforts issues affecting industry conducted year. employ different training communication methods educate update employees including: - regular as-needed basis conduct new hire trainings our\\ncorporate responsibility program employee orientations. - social environmental responsibility team visit stores the\\nworld provide trainings. includes company’s efforts addressing migrant worker issues. - create distribute Frequently Asked Questions sheets particular social environmental issues. developed migrant worker issues human trafficking shared staff work directly suppliers. - SER team holds regular meetings business units update migrant worker program including supplier progress, remediation strategy engagement activity stakeholders. - maintain dedicated webpage Taiwan migrant worker efforts internal external stakeholders.\\nWhen launched response Act 2011, held companywide human trafficking awareness training year. time efforts area expanded deepened remain committed keeping issues forefront.\\nExternal Training training efforts include reaching external parties suppliers, companies, government, media general public.\\nAll audited factories mills informed Act given, minimum, introductory training human trafficking slavery. suppliers higher risk regions devote substantial time training remediation. Specifically suppliers Taiwan held workshops, webinars, coordinated 3rd party trainings subjects related prevention, detection remediation human trafficking. Education vital bringing change continue use approach suppliers.\\nMigrant worker issues complex affected stakeholders including companies, government, consumers media. wide-ranging efforts engage actors. media, public challenges face Taiwan supply chain strategy employ improvements. helped raise awareness issues result started meaningful discussions Taiwan governments, companies different sectors, NGO’s customers.\\nb. Personnel Trained\\nGeneral training human trafficking slavery provided companywide ongoing basis. Focused in-depth training issues been\\n10 | P g e\\n\\n\\x0cprovided key staff members prime position help prevent, detect and/or remediate issues. staff members include: - leadership team including CEO, COO VP Supply Chain. - SER team consisting 15 members, Field Managers\\nbased Asia spend time factories working suppliers. - business units work directly suppliers including material developers, product developers sourcing. Ongoing training provided directors managers teams.\\n_________________________________________ Ryan Gellert Managing Director, Patagonia Europe Coöperatief U.A. [Signature required UK Modern Slavery Act California Transparency Act]\\nC. HELPFUL LINKS Information CA Transparency Supply Chains Act\\n• California Transparency Supply Chains Act - Department Labor https://www.dol.gov/ilab/child-forced-labor/California-Transparency-in-SupplyChains-Act.htm\\n• California Transparency Supply Chains Act – Law Language http://www.leginfo.ca.gov/pub/09-10/bill/sen/sb_06510700/sb_657_bill_20100930_chaptered.pdf\\n• California Transparency Supply Chains Act – Resource Guide https://oag.ca.gov/sites/all/files/agweb/pdfs/sb657/resource-guide.pdf?\\nInformation Statistics Human Trafficking - General\\n• United Nations Office Drugs Crime https://www.unodc.org/unodc/en/human-trafficking/what-is-human-trafficking.html\\n• State Department, Office Monitor Combat Trafficking Persons 2016 Trafficking Person Report http://www.state.gov/j/tip/rls/tiprpt/\\n11 | P g e\\n\\n\\x0c• Verité Help Wanted: Hiring, Human Trafficking Modern Day Slavery Global Economy http://www.verite.org/forced-labor\\n• ILO Combating Forced Labor Employer’s Handbook http://www.ilo.org/sapfl/Informationresources/ILOPublications/lang--en/docName-WCMS_101171/index.htm\\n• Know Chain https://www.knowthechain.org/\\n• Global Slavery Index http://www.globalslaveryindex.org/index/\\n12 | P g e\\n\\n\\x0c'"
      ]
     },
     "execution_count": 21,
     "metadata": {},
     "output_type": "execute_result"
    }
   ],
   "source": [
    "#Patagonia's statement talks about policies that the company adopts throughout the supply chain, and is very specific\n",
    "#about the different initiatives Patagonia has taken to combat human trafficking, including its multi-pronged approach\n",
    "#to combatting child labor. This level of detail is not generally found in other companies policies, which might explain\n",
    "#why it's an outlier.\n",
    "uk[uk[\"Company ID\"] == 9606][\"Policies\"].values[0]"
   ]
  },
  {
   "cell_type": "code",
   "execution_count": 22,
   "metadata": {},
   "outputs": [
    {
     "data": {
      "text/plain": [
       "\"1.1 Modern slavery crime violation fundamental human rights. takes forms, slavery, servitude, forced compulsory labour human trafficking, common deprivation person's liberty order exploit personal commercial gain. includes forced labour human trafficking labour exploitation; payment work-finding services work-related exploitation forced use accommodation. understood hidden perpetrators victims, perceive such, reluctant come forward.\\n1.2 zero-tolerance approach modern slavery committed acting ethically integrity business dealings relationships implementing enforcing effective systems controls ensure modern slavery taking place business supply chains.\\n1.3 committed ensuring transparency business approach tackling modern slavery supply chains, consistent disclosure obligations Modern Slavery Act 2015. expect high standards contractors, suppliers business partners, contracting processes, include specific prohibitions use forced, compulsory trafficked labour, held slavery servitude, adults children, expect suppliers hold suppliers high standards.\\n1.4 corporate minimum labour standards, expect contractors, suppliers business partners, reflect set Electronic Industry Citizenship Coalition Code Conduct Section A: Labor1. corporate minimum labour standards are\\n\\uf0b7 Freely chosen employment\\nForced, bonded (including debt bondage) indentured labour, involuntary prison labour, slavery trafficking persons shall used. includes transporting, harbouring, recruiting, transferring receiving persons means threat, force, coercion, abduction fraud labour services. shall unreasonable restrictions workers’\\n\\n\\x0cfreedom movement facility addition unreasonable restrictions entering exiting company-provided facilities. hiring process, workers provided written employment agreement native language contains description terms conditions employment prior worker departing country origin. work voluntary workers shall free leave work time terminate employment. Employers agents hold destroy, conceal, confi\""
      ]
     },
     "execution_count": 22,
     "metadata": {},
     "output_type": "execute_result"
    }
   ],
   "source": [
    "#This is only a snippet of this company's policies, but the full document is very detailed about the company's policies\n",
    "#regarding breaches, communication, and company responsibiity. Again, it is this specificity that might explain why this\n",
    "#document is an outlier.\n",
    "uk[uk[\"Company ID\"] == 32846][\"Policies\"].values[0][:2000]"
   ]
  },
  {
   "cell_type": "markdown",
   "metadata": {},
   "source": [
    "# Comparing Due Diligence and Supply Chain"
   ]
  },
  {
   "cell_type": "markdown",
   "metadata": {},
   "source": [
    "Two sections of the report that should relate to each other closely are the due diligence and supply chain sections. This is because the supply chain sections should enumerate the risks present at every stage of the supply chain, while the due diligence section should discuss the steps taken to manage those risks. Companies that produce good statements are thus likely to use similar terminology in both the due diligence and the supply chain sections, meaning taking the cosine similarity between the two vectors should hopefully reveal which companies are doing better jobs than others at mitigating the risks they've identified in their supply chain."
   ]
  },
  {
   "cell_type": "code",
   "execution_count": 23,
   "metadata": {},
   "outputs": [],
   "source": [
    "uk_supply_diligence = uk.loc[:, [\"Company ID\", \"Company\", \"Supply Chain\", \"Due Diligence\"]] #Create new DF\n",
    "uk_supply_diligence[\"Supply Preprocessed\"] = uk_supply_diligence[\"Supply Chain\"].apply(preprocessing)\n",
    "uk_supply_diligence[\"Diligence Preprocessed\"] = uk_supply_diligence[\"Due Diligence\"].apply(preprocessing)"
   ]
  },
  {
   "cell_type": "code",
   "execution_count": 26,
   "metadata": {},
   "outputs": [
    {
     "data": {
      "text/plain": [
       "<15240x9796 sparse matrix of type '<class 'numpy.float64'>'\n",
       "\twith 1635175 stored elements in Compressed Sparse Row format>"
      ]
     },
     "execution_count": 26,
     "metadata": {},
     "output_type": "execute_result"
    }
   ],
   "source": [
    "#Only selects the rows of the dataframe that have non-empty due diligence and supply chain values\n",
    "uk_supply_diligence = uk_supply_diligence[(uk_supply_diligence[\"Supply Preprocessed\"] != \"\") & (uk_supply_diligence[\"Diligence Preprocessed\"] != \"\")]\n",
    "supply_chain = uk_supply_diligence[\"Supply Preprocessed\"].values\n",
    "diligence = uk_supply_diligence[\"Diligence Preprocessed\"].values\n",
    "supply_chain = [\" \".join(chain) for chain in supply_chain]\n",
    "diligence = [\" \".join(text) for text in diligence]\n",
    "#Generates tfidf values for the supply chain and due diligence texts - in this case, it's better to process them together\n",
    "tfidf.fit_transform(supply_chain + diligence)"
   ]
  },
  {
   "cell_type": "code",
   "execution_count": 27,
   "metadata": {},
   "outputs": [],
   "source": [
    "def get_cos_similarity(row):\n",
    "    supply = row[\"Supply Preprocessed\"]\n",
    "    diligence = row[\"Diligence Preprocessed\"]\n",
    "    supply_vector = [get_final_vector(supply)] #Needs to be a 2d array for the cosine_similarity function\n",
    "    diligence_vector = [get_final_vector(diligence)]\n",
    "    return cosine_similarity(supply_vector, diligence_vector)[0][0] #Retrieve the cosine_similarity value"
   ]
  },
  {
   "cell_type": "code",
   "execution_count": 28,
   "metadata": {},
   "outputs": [],
   "source": [
    "#Calculates cosine similarity values for every row\n",
    "uk_supply_diligence[\"Cosine Similarity\"] = uk_supply_diligence.apply(get_cos_similarity, axis=1)\n",
    "#Sort dataframe by descending cosine similarity \n",
    "uk_supply_diligence = uk_supply_diligence.sort_values(by=\"Cosine Similarity\", ascending=False)"
   ]
  },
  {
   "cell_type": "code",
   "execution_count": 29,
   "metadata": {},
   "outputs": [
    {
     "data": {
      "text/html": [
       "<div>\n",
       "<style scoped>\n",
       "    .dataframe tbody tr th:only-of-type {\n",
       "        vertical-align: middle;\n",
       "    }\n",
       "\n",
       "    .dataframe tbody tr th {\n",
       "        vertical-align: top;\n",
       "    }\n",
       "\n",
       "    .dataframe thead th {\n",
       "        text-align: right;\n",
       "    }\n",
       "</style>\n",
       "<table border=\"1\" class=\"dataframe\">\n",
       "  <thead>\n",
       "    <tr style=\"text-align: right;\">\n",
       "      <th></th>\n",
       "      <th>Company ID</th>\n",
       "      <th>Company</th>\n",
       "      <th>Supply Chain</th>\n",
       "      <th>Due Diligence</th>\n",
       "      <th>Supply Preprocessed</th>\n",
       "      <th>Diligence Preprocessed</th>\n",
       "      <th>Cosine Similarity</th>\n",
       "    </tr>\n",
       "  </thead>\n",
       "  <tbody>\n",
       "    <tr>\n",
       "      <th>5629</th>\n",
       "      <td>9037</td>\n",
       "      <td>Capgemini UK plc</td>\n",
       "      <td>We global network Capgemini entities Capgemini...</td>\n",
       "      <td>This Transparency Statement pursuant Section 5...</td>\n",
       "      <td>[we, global, network, capgemini, entity, capge...</td>\n",
       "      <td>[this, transparency, statement, pursuant, sect...</td>\n",
       "      <td>0.995376</td>\n",
       "    </tr>\n",
       "    <tr>\n",
       "      <th>21969</th>\n",
       "      <td>36745</td>\n",
       "      <td>Severn Trent Green Power Ltd</td>\n",
       "      <td>We spend £1.25bn year supply chain, rely 1,700...</td>\n",
       "      <td>\\nWe’re proud purposeful company, committed pr...</td>\n",
       "      <td>[we, spend, £, .bn, year, supply, chain, rely,...</td>\n",
       "      <td>[ , -pron-, be, proud, purposeful, company, co...</td>\n",
       "      <td>0.994335</td>\n",
       "    </tr>\n",
       "    <tr>\n",
       "      <th>21968</th>\n",
       "      <td>36746</td>\n",
       "      <td>Hafren Dyfrdwy Cyfyngedig</td>\n",
       "      <td>We spend £1.25bn year supply chain, rely 1,700...</td>\n",
       "      <td>\\nWe’re proud purposeful company, committed pr...</td>\n",
       "      <td>[we, spend, £, .bn, year, supply, chain, rely,...</td>\n",
       "      <td>[ , -pron-, be, proud, purposeful, company, co...</td>\n",
       "      <td>0.994335</td>\n",
       "    </tr>\n",
       "    <tr>\n",
       "      <th>21972</th>\n",
       "      <td>31115</td>\n",
       "      <td>Severn Trent Water Limited</td>\n",
       "      <td>We spend £1.25bn year supply chain, rely 1,700...</td>\n",
       "      <td>\\nWe’re proud purposeful company, committed pr...</td>\n",
       "      <td>[we, spend, £, .bn, year, supply, chain, rely,...</td>\n",
       "      <td>[ , -pron-, be, proud, purposeful, company, co...</td>\n",
       "      <td>0.994335</td>\n",
       "    </tr>\n",
       "    <tr>\n",
       "      <th>21971</th>\n",
       "      <td>31118</td>\n",
       "      <td>Severn Trent Services Operations UK Limited</td>\n",
       "      <td>We spend £1.25bn year supply chain, rely 1,700...</td>\n",
       "      <td>\\nWe’re proud purposeful company, committed pr...</td>\n",
       "      <td>[we, spend, £, .bn, year, supply, chain, rely,...</td>\n",
       "      <td>[ , -pron-, be, proud, purposeful, company, co...</td>\n",
       "      <td>0.994335</td>\n",
       "    </tr>\n",
       "  </tbody>\n",
       "</table>\n",
       "</div>"
      ],
      "text/plain": [
       "       Company ID                                      Company  \\\n",
       "5629         9037                             Capgemini UK plc   \n",
       "21969       36745                 Severn Trent Green Power Ltd   \n",
       "21968       36746                    Hafren Dyfrdwy Cyfyngedig   \n",
       "21972       31115                   Severn Trent Water Limited   \n",
       "21971       31118  Severn Trent Services Operations UK Limited   \n",
       "\n",
       "                                            Supply Chain  \\\n",
       "5629   We global network Capgemini entities Capgemini...   \n",
       "21969  We spend £1.25bn year supply chain, rely 1,700...   \n",
       "21968  We spend £1.25bn year supply chain, rely 1,700...   \n",
       "21972  We spend £1.25bn year supply chain, rely 1,700...   \n",
       "21971  We spend £1.25bn year supply chain, rely 1,700...   \n",
       "\n",
       "                                           Due Diligence  \\\n",
       "5629   This Transparency Statement pursuant Section 5...   \n",
       "21969  \\nWe’re proud purposeful company, committed pr...   \n",
       "21968  \\nWe’re proud purposeful company, committed pr...   \n",
       "21972  \\nWe’re proud purposeful company, committed pr...   \n",
       "21971  \\nWe’re proud purposeful company, committed pr...   \n",
       "\n",
       "                                     Supply Preprocessed  \\\n",
       "5629   [we, global, network, capgemini, entity, capge...   \n",
       "21969  [we, spend, £, .bn, year, supply, chain, rely,...   \n",
       "21968  [we, spend, £, .bn, year, supply, chain, rely,...   \n",
       "21972  [we, spend, £, .bn, year, supply, chain, rely,...   \n",
       "21971  [we, spend, £, .bn, year, supply, chain, rely,...   \n",
       "\n",
       "                                  Diligence Preprocessed  Cosine Similarity  \n",
       "5629   [this, transparency, statement, pursuant, sect...           0.995376  \n",
       "21969  [ , -pron-, be, proud, purposeful, company, co...           0.994335  \n",
       "21968  [ , -pron-, be, proud, purposeful, company, co...           0.994335  \n",
       "21972  [ , -pron-, be, proud, purposeful, company, co...           0.994335  \n",
       "21971  [ , -pron-, be, proud, purposeful, company, co...           0.994335  "
      ]
     },
     "execution_count": 29,
     "metadata": {},
     "output_type": "execute_result"
    }
   ],
   "source": [
    "#Looking at the top results in this dataframe also reveals that their due diligence and supply chain sections are \n",
    "#often incredibly detailed, which could be viewed as a proxy metric for a better slavery statement.\n",
    "uk_supply_diligence.head()"
   ]
  },
  {
   "cell_type": "markdown",
   "metadata": {},
   "source": [
    "# Conclusions and Future Directions\n",
    "The biggest improvement to my analysis would be to use a pretrained model to extract sentences most likely to pertain to each section that slavery statements should include. This would ensure that extracted sentences are more relevant and do not contain extraneous information. Additionally, my analysis in this notebook was limited to statements covered under the UK statement, but a promising direction for future analysis would be to analyze differences between statements covered by different policies to find any significant differences in the phrasing of the slavery statements. "
   ]
  },
  {
   "cell_type": "code",
   "execution_count": null,
   "metadata": {},
   "outputs": [],
   "source": []
  }
 ],
 "metadata": {
  "kernelspec": {
   "display_name": "Python 3",
   "language": "python",
   "name": "python3"
  },
  "language_info": {
   "codemirror_mode": {
    "name": "ipython",
    "version": 3
   },
   "file_extension": ".py",
   "mimetype": "text/x-python",
   "name": "python",
   "nbconvert_exporter": "python",
   "pygments_lexer": "ipython3",
   "version": "3.6.9"
  }
 },
 "nbformat": 4,
 "nbformat_minor": 2
}
